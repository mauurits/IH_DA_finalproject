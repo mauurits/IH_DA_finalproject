{
 "cells": [
  {
   "cell_type": "markdown",
   "id": "81807a1e-567f-47f5-a959-b9cb585b177c",
   "metadata": {},
   "source": [
    "*\n",
    "***** SHORTCUTS ******    - Maurits Siemonsma 20240924\n",
    "*"
   ]
  },
  {
   "cell_type": "markdown",
   "id": "af89ca6c-e4cf-49d1-81ca-42b86ed0f07a",
   "metadata": {},
   "source": [
    "DATA CLEANING"
   ]
  },
  {
   "cell_type": "code",
   "execution_count": null,
   "id": "05f88237-c237-4d30-8d0b-71940b840ccb",
   "metadata": {},
   "outputs": [],
   "source": [
    "import pandas as pd\n",
    "import numpy as np\n",
    "\n",
    "# 1. Load data\n",
    "df = pd.read_csv('your_data.csv')"
   ]
  },
  {
   "cell_type": "code",
   "execution_count": null,
   "id": "d5940b68-78c8-4139-a15f-d3894dadb3c3",
   "metadata": {},
   "outputs": [],
   "source": [
    "# 2. Inspect the data\n",
    "df.head()\n",
    "df.info()\n",
    "df.describe()\n",
    "df.columns.tolist()"
   ]
  },
  {
   "cell_type": "code",
   "execution_count": null,
   "id": "89431592-a3a9-4b7f-b8ba-7e90d39f3043",
   "metadata": {},
   "outputs": [],
   "source": [
    "# Format column names\n",
    "df.columns = [col.replace(\" \",\"_\").lower() for col in df.columns]"
   ]
  },
  {
   "cell_type": "code",
   "execution_count": null,
   "id": "5f15a6c5-ad6d-4212-9984-b745be5d3f3d",
   "metadata": {},
   "outputs": [],
   "source": [
    "# Rename columns for clarity\n",
    "df = df.rename(columns={'old_name': 'new_name'})\n",
    "\n",
    "# add a code to rename multiple columns"
   ]
  },
  {
   "cell_type": "code",
   "execution_count": null,
   "id": "69c0a07a-8067-42a2-a837-3fe418c02f7a",
   "metadata": {},
   "outputs": [],
   "source": [
    "# 3. Check missing values\n",
    "df.isna().sum()\n",
    "rows_with_null_values = df[columns_to_check].isnull().all(axis=1)"
   ]
  },
  {
   "cell_type": "code",
   "execution_count": null,
   "id": "31db76aa-f8e6-49a6-b0f1-a762abdc45a4",
   "metadata": {},
   "outputs": [],
   "source": [
    "# 4. Handle missing values\n",
    "df = df.dropna()  # Or use df.fillna(value) to fill with a specific value"
   ]
  },
  {
   "cell_type": "code",
   "execution_count": null,
   "id": "2068a699-0131-44b6-a8bc-fc21fee7ed1f",
   "metadata": {},
   "outputs": [],
   "source": [
    "# Replacing missing values: Fill NaN in premature deaths with mean, sort by city and year\n",
    "\n",
    "def fill_na_with_group_mean(group):\n",
    "    return group.fillna(group.mean())\n",
    "\n",
    "df['premature_deaths'] = df.groupby(['city', 'year'])['premature_deaths'].transform(fill_na_with_group_mean)\n",
    "\n",
    "df['premature_deaths']\n",
    "df_mean = df\n",
    "df_mean['premature_deaths']"
   ]
  },
  {
   "cell_type": "code",
   "execution_count": null,
   "id": "081d3fca-016b-40c7-856a-347e0ca0daa5",
   "metadata": {},
   "outputs": [],
   "source": [
    "# Replacing values\n",
    "\n",
    "replacements = {\n",
    "    r'A.*': 'A',\n",
    "    r'B.*': 'B',\n",
    "    r'C.*': 'C',\n",
    "    r'D.*': 'D',\n",
    "    r'E.*': 'E',\n",
    "    r'F.*': 'F',\n",
    "    r'G.*': 'G',\n",
    "    r'T.*': 'T'\n",
    "}\n",
    "\n",
    "spaceship['Cabin'] = spaceship['Cabin'].replace(replacements, regex=True)\n",
    "\n",
    "\n",
    "# Starting with \"F\"\n",
    "spaceship['Cabin'] = spaceship['Cabin'].replace({r'F.*': 'F'}, regex=True)\n",
    "\n",
    "# Containing \"F\"\n",
    "spaceship['Cabin'] = spaceship['Cabin'].replace({r'.*F.*': 'F'}, regex=True)\n",
    "\n",
    "# Ending with \"F\"\n",
    "spaceship['Cabin'] = spaceship['Cabin'].replace({r'.*F$': 'F'}, regex=True)\n",
    "\n"
   ]
  },
  {
   "cell_type": "code",
   "execution_count": 1,
   "id": "ab798cc0-8d89-4fab-a2c2-2c71de32cd4f",
   "metadata": {},
   "outputs": [
    {
     "ename": "NameError",
     "evalue": "name 'df' is not defined",
     "output_type": "error",
     "traceback": [
      "\u001b[0;31m---------------------------------------------------------------------------\u001b[0m",
      "\u001b[0;31mNameError\u001b[0m                                 Traceback (most recent call last)",
      "Cell \u001b[0;32mIn[1], line 1\u001b[0m\n\u001b[0;32m----> 1\u001b[0m \u001b[43mdf\u001b[49m\u001b[38;5;241m.\u001b[39mduplicated()\u001b[38;5;241m.\u001b[39msum()\n",
      "\u001b[0;31mNameError\u001b[0m: name 'df' is not defined"
     ]
    }
   ],
   "source": [
    "# Check for duplicates\n",
    "\n",
    "df.duplicated().sum()"
   ]
  },
  {
   "cell_type": "code",
   "execution_count": null,
   "id": "ee466818-9698-4df9-b968-f9db9447b7ac",
   "metadata": {},
   "outputs": [],
   "source": [
    "# Drop duplicates\n",
    "\n",
    "df = df.drop_duplicates()"
   ]
  },
  {
   "cell_type": "code",
   "execution_count": null,
   "id": "4f6526db-2e8e-4bdc-9c63-4a9d6f1364a3",
   "metadata": {},
   "outputs": [],
   "source": [
    "# Drop columns\n",
    "\n",
    "df = df.drop('column', axis=1)"
   ]
  },
  {
   "cell_type": "code",
   "execution_count": null,
   "id": "04effed2-ecfb-4ba3-a813-129ec4189cb7",
   "metadata": {},
   "outputs": [],
   "source": [
    "# Reorder columns if needed\n",
    "df = df[['column1', 'column2', 'column3']]"
   ]
  },
  {
   "cell_type": "code",
   "execution_count": null,
   "id": "8f427c5f-1aec-4a1b-8a3a-c7f9909f3033",
   "metadata": {},
   "outputs": [],
   "source": [
    "# Correct data types\n",
    "\n",
    "df['date_column'] = pd.to_datetime(df['date_column'])\n",
    "df['numeric_column'] = pd.to_numeric(df['numeric_column'], errors='coerce')"
   ]
  },
  {
   "cell_type": "code",
   "execution_count": null,
   "id": "c2b2ab6f-3b41-4dd9-899b-c157e9870517",
   "metadata": {},
   "outputs": [],
   "source": [
    "# Handle outliers (example using Z-score method)\n",
    "def remove_outliers(df, column, threshold=3):\n",
    "    z_scores = np.abs((df[column] - df[column].mean()) / df[column].std())\n",
    "    return df[z_scores < threshold]\n",
    "\n",
    "df = remove_outliers(df, 'numeric_column')"
   ]
  },
  {
   "cell_type": "code",
   "execution_count": null,
   "id": "bb880b0e-2c51-4a2f-a4ac-20384e49dea0",
   "metadata": {},
   "outputs": [],
   "source": [
    "# Normalize or scale numerical features (example using Min-Max scaling)\n",
    "from sklearn.preprocessing import MinMaxScaler\n",
    "\n",
    "scaler = MinMaxScaler()\n",
    "df['scaled_column'] = scaler.fit_transform(df[['numeric_column']])"
   ]
  },
  {
   "cell_type": "code",
   "execution_count": null,
   "id": "715477af-2aa1-45bf-b871-c58fa945a539",
   "metadata": {},
   "outputs": [],
   "source": [
    "# Encode categorical variables\n",
    "df = pd.get_dummies(df, columns=['categorical_column'])"
   ]
  },
  {
   "cell_type": "code",
   "execution_count": null,
   "id": "b94436d3-a1f8-4711-9437-c5c87d9b058a",
   "metadata": {},
   "outputs": [],
   "source": [
    "# Reset index"
   ]
  },
  {
   "cell_type": "code",
   "execution_count": null,
   "id": "59115852-9b52-4e45-a870-a35c6e4df34b",
   "metadata": {},
   "outputs": [],
   "source": [
    "# Save the cleaned dataset\n",
    "df.to_csv('cleaned_data.csv', index=False)"
   ]
  },
  {
   "cell_type": "code",
   "execution_count": null,
   "id": "21e35efd-6f23-4948-93bc-82d127370b28",
   "metadata": {},
   "outputs": [],
   "source": []
  },
  {
   "cell_type": "code",
   "execution_count": null,
   "id": "37743b18-8849-494e-9c7b-310f52f8e0e2",
   "metadata": {},
   "outputs": [],
   "source": []
  }
 ],
 "metadata": {
  "kernelspec": {
   "display_name": "venv",
   "language": "python",
   "name": "venv"
  },
  "language_info": {
   "codemirror_mode": {
    "name": "ipython",
    "version": 3
   },
   "file_extension": ".py",
   "mimetype": "text/x-python",
   "name": "python",
   "nbconvert_exporter": "python",
   "pygments_lexer": "ipython3",
   "version": "3.12.4"
  }
 },
 "nbformat": 4,
 "nbformat_minor": 5
}
