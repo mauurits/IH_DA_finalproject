{
 "cells": [
  {
   "cell_type": "code",
   "execution_count": 21,
   "id": "d6ee5cc3-96cd-4a3f-ad58-6dccafa439fc",
   "metadata": {},
   "outputs": [
    {
     "name": "stderr",
     "output_type": "stream",
     "text": [
      "INFO:__main__:Fetching latest file of aardbevingen_cijfers version 1\n",
      "INFO:__main__:Latest file is: trend-parameters-20240925095209.json\n",
      "INFO:__main__:Successfully downloaded dataset file to trend-parameters-20240925095209.json\n"
     ]
    }
   ],
   "source": [
    "import logging\n",
    "import os\n",
    "import sys\n",
    "\n",
    "import requests\n",
    "\n",
    "logging.basicConfig()\n",
    "logger = logging.getLogger(__name__)\n",
    "logger.setLevel(os.environ.get(\"LOG_LEVEL\", logging.INFO))\n",
    "\n",
    "\n",
    "class OpenDataAPI:\n",
    "    def __init__(self, api_token: str):\n",
    "        self.base_url = \"https://api.dataplatform.knmi.nl/open-data/v1\"\n",
    "        self.headers = {\"Authorization\": api_token}\n",
    "\n",
    "    def __get_data(self, url, params=None):\n",
    "        return requests.get(url, headers=self.headers, params=params).json()\n",
    "\n",
    "    def list_files(self, dataset_name: str, dataset_version: str, params: dict):\n",
    "        return self.__get_data(\n",
    "            f\"{self.base_url}/datasets/{dataset_name}/versions/{dataset_version}/files\",\n",
    "            params=params,\n",
    "        )\n",
    "\n",
    "    def get_file_url(self, dataset_name: str, dataset_version: str, file_name: str):\n",
    "        return self.__get_data(\n",
    "            f\"{self.base_url}/datasets/{dataset_name}/versions/{dataset_version}/files/{file_name}/url\"\n",
    "        )\n",
    "\n",
    "\n",
    "def download_file_from_temporary_download_url(download_url, filename):\n",
    "    try:\n",
    "        with requests.get(download_url, stream=True) as r:\n",
    "            r.raise_for_status()\n",
    "            with open(filename, \"wb\") as f:\n",
    "                for chunk in r.iter_content(chunk_size=8192):\n",
    "                    f.write(chunk)\n",
    "    except Exception:\n",
    "        logger.exception(\"Unable to download file using download URL\")\n",
    "        sys.exit(1)\n",
    "\n",
    "    logger.info(f\"Successfully downloaded dataset file to {filename}\")\n",
    "\n",
    "\n",
    "def main():\n",
    "    api_key = \"eyJvcmciOiI1ZTU1NGUxOTI3NGE5NjAwMDEyYTNlYjEiLCJpZCI6ImIyMmI1ZjcwZWE3NzQwNGZhMGViMzlhNTg1OWYyMDM2IiwiaCI6Im11cm11cjEyOCJ9\"\n",
    "    dataset_name = \"aardbevingen_cijfers\"\n",
    "    dataset_version = \"1\"\n",
    "    logger.info(f\"Fetching latest file of {dataset_name} version {dataset_version}\")\n",
    "\n",
    "    api = OpenDataAPI(api_token=api_key)\n",
    "\n",
    "    # sort the files in descending order and only retrieve the first file\n",
    "    params = {\"maxKeys\": 1, \"orderBy\": \"created\", \"sorting\": \"desc\"}\n",
    "    response = api.list_files(dataset_name, dataset_version, params)\n",
    "    if \"error\" in response:\n",
    "        logger.error(f\"Unable to retrieve list of files: {response['error']}\")\n",
    "        sys.exit(1)\n",
    "\n",
    "    latest_file = response[\"files\"][0].get(\"filename\")\n",
    "    logger.info(f\"Latest file is: {latest_file}\")\n",
    "\n",
    "    # fetch the download url and download the file\n",
    "    response = api.get_file_url(dataset_name, dataset_version, latest_file)\n",
    "    download_file_from_temporary_download_url(response[\"temporaryDownloadUrl\"], latest_file)\n",
    "\n",
    "\n",
    "if __name__ == \"__main__\":\n",
    "    main()"
   ]
  },
  {
   "cell_type": "code",
   "execution_count": null,
   "id": "4b81a848-4fd3-43e5-ab2b-00f0594c1902",
   "metadata": {},
   "outputs": [],
   "source": []
  },
  {
   "cell_type": "code",
   "execution_count": null,
   "id": "9e742626-7d3d-4d12-aa7d-8c7ddf2f8fab",
   "metadata": {},
   "outputs": [],
   "source": []
  },
  {
   "cell_type": "code",
   "execution_count": null,
   "id": "a6bcc06e-3bea-4fe8-bc33-e5c278cdb7c9",
   "metadata": {},
   "outputs": [],
   "source": []
  },
  {
   "cell_type": "code",
   "execution_count": null,
   "id": "46e9040b-cfff-4fbd-b59b-04f8dadf1a5f",
   "metadata": {},
   "outputs": [],
   "source": []
  },
  {
   "cell_type": "code",
   "execution_count": null,
   "id": "b9c29bb5-4d1b-46cb-af98-838656d786a0",
   "metadata": {},
   "outputs": [],
   "source": []
  },
  {
   "cell_type": "code",
   "execution_count": null,
   "id": "c4f7e318-1d22-4008-a5eb-c61a2c2b634b",
   "metadata": {},
   "outputs": [],
   "source": []
  }
 ],
 "metadata": {
  "kernelspec": {
   "display_name": "Python 3 (ipykernel)",
   "language": "python",
   "name": "python3"
  },
  "language_info": {
   "codemirror_mode": {
    "name": "ipython",
    "version": 3
   },
   "file_extension": ".py",
   "mimetype": "text/x-python",
   "name": "python",
   "nbconvert_exporter": "python",
   "pygments_lexer": "ipython3",
   "version": "3.12.4"
  }
 },
 "nbformat": 4,
 "nbformat_minor": 5
}
