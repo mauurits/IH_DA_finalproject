{
 "cells": [
  {
   "cell_type": "code",
   "execution_count": 18,
   "id": "26f9fbd8-0c4a-4fb6-b81f-6ee6ae05b50a",
   "metadata": {},
   "outputs": [
    {
     "name": "stdout",
     "output_type": "stream",
     "text": [
      "DataFrame from JSON file:\n",
      "                                                                         meta  \\\n",
      "schema                                                                    n/a   \n",
      "producer                                                                 KNMI   \n",
      "last_updated                                              2024-09-25T09:52:09   \n",
      "description                 Trend-parameters (number of earthquakes per ye...   \n",
      "thresholds_trendparameters  {'years_period': 0.5, 'min_mag_counts': 1.2, '...   \n",
      "dates                                                                     NaN   \n",
      "counts                                                                    NaN   \n",
      "densities                                                                 NaN   \n",
      "\n",
      "                                                                         data  \n",
      "schema                                                                    NaN  \n",
      "producer                                                                  NaN  \n",
      "last_updated                                                              NaN  \n",
      "description                                                               NaN  \n",
      "thresholds_trendparameters                                                NaN  \n",
      "dates                       [2024-09-25, 2024-09-24, 2024-09-23, 2024-09-2...  \n",
      "counts                      [8.0, 8.0, 8.0, 8.0, 8.0, 8.0, 8.0, 8.0, 8.0, ...  \n",
      "densities                   [0.08, 0.08, 0.08, 0.08, 0.08, 0.08, 0.08, 0.0...  \n"
     ]
    },
    {
     "data": {
      "text/html": [
       "<div>\n",
       "<style scoped>\n",
       "    .dataframe tbody tr th:only-of-type {\n",
       "        vertical-align: middle;\n",
       "    }\n",
       "\n",
       "    .dataframe tbody tr th {\n",
       "        vertical-align: top;\n",
       "    }\n",
       "\n",
       "    .dataframe thead th {\n",
       "        text-align: right;\n",
       "    }\n",
       "</style>\n",
       "<table border=\"1\" class=\"dataframe\">\n",
       "  <thead>\n",
       "    <tr style=\"text-align: right;\">\n",
       "      <th></th>\n",
       "      <th>meta</th>\n",
       "      <th>data</th>\n",
       "    </tr>\n",
       "  </thead>\n",
       "  <tbody>\n",
       "    <tr>\n",
       "      <th>schema</th>\n",
       "      <td>n/a</td>\n",
       "      <td>NaN</td>\n",
       "    </tr>\n",
       "    <tr>\n",
       "      <th>producer</th>\n",
       "      <td>KNMI</td>\n",
       "      <td>NaN</td>\n",
       "    </tr>\n",
       "    <tr>\n",
       "      <th>last_updated</th>\n",
       "      <td>2024-09-25T09:52:09</td>\n",
       "      <td>NaN</td>\n",
       "    </tr>\n",
       "    <tr>\n",
       "      <th>description</th>\n",
       "      <td>Trend-parameters (number of earthquakes per ye...</td>\n",
       "      <td>NaN</td>\n",
       "    </tr>\n",
       "    <tr>\n",
       "      <th>thresholds_trendparameters</th>\n",
       "      <td>{'years_period': 0.5, 'min_mag_counts': 1.2, '...</td>\n",
       "      <td>NaN</td>\n",
       "    </tr>\n",
       "    <tr>\n",
       "      <th>dates</th>\n",
       "      <td>NaN</td>\n",
       "      <td>[2024-09-25, 2024-09-24, 2024-09-23, 2024-09-2...</td>\n",
       "    </tr>\n",
       "    <tr>\n",
       "      <th>counts</th>\n",
       "      <td>NaN</td>\n",
       "      <td>[8.0, 8.0, 8.0, 8.0, 8.0, 8.0, 8.0, 8.0, 8.0, ...</td>\n",
       "    </tr>\n",
       "    <tr>\n",
       "      <th>densities</th>\n",
       "      <td>NaN</td>\n",
       "      <td>[0.08, 0.08, 0.08, 0.08, 0.08, 0.08, 0.08, 0.0...</td>\n",
       "    </tr>\n",
       "  </tbody>\n",
       "</table>\n",
       "</div>"
      ],
      "text/plain": [
       "                                                                         meta  \\\n",
       "schema                                                                    n/a   \n",
       "producer                                                                 KNMI   \n",
       "last_updated                                              2024-09-25T09:52:09   \n",
       "description                 Trend-parameters (number of earthquakes per ye...   \n",
       "thresholds_trendparameters  {'years_period': 0.5, 'min_mag_counts': 1.2, '...   \n",
       "dates                                                                     NaN   \n",
       "counts                                                                    NaN   \n",
       "densities                                                                 NaN   \n",
       "\n",
       "                                                                         data  \n",
       "schema                                                                    NaN  \n",
       "producer                                                                  NaN  \n",
       "last_updated                                                              NaN  \n",
       "description                                                               NaN  \n",
       "thresholds_trendparameters                                                NaN  \n",
       "dates                       [2024-09-25, 2024-09-24, 2024-09-23, 2024-09-2...  \n",
       "counts                      [8.0, 8.0, 8.0, 8.0, 8.0, 8.0, 8.0, 8.0, 8.0, ...  \n",
       "densities                   [0.08, 0.08, 0.08, 0.08, 0.08, 0.08, 0.08, 0.0...  "
      ]
     },
     "execution_count": 18,
     "metadata": {},
     "output_type": "execute_result"
    }
   ],
   "source": [
    "import pandas as pd\n",
    "\n",
    "df = pd.read_json('trend-parameters-20240925095209.json')\n",
    "\n",
    "# Display the DataFrame\n",
    "print(\"DataFrame from JSON file:\")\n",
    "print(df)\n",
    "df"
   ]
  },
  {
   "cell_type": "code",
   "execution_count": 16,
   "id": "ad313c0c-9291-45c1-acde-7139d5377dcc",
   "metadata": {},
   "outputs": [
    {
     "data": {
      "text/html": [
       "<div>\n",
       "<style scoped>\n",
       "    .dataframe tbody tr th:only-of-type {\n",
       "        vertical-align: middle;\n",
       "    }\n",
       "\n",
       "    .dataframe tbody tr th {\n",
       "        vertical-align: top;\n",
       "    }\n",
       "\n",
       "    .dataframe thead th {\n",
       "        text-align: right;\n",
       "    }\n",
       "</style>\n",
       "<table border=\"1\" class=\"dataframe\">\n",
       "  <thead>\n",
       "    <tr style=\"text-align: right;\">\n",
       "      <th></th>\n",
       "    </tr>\n",
       "  </thead>\n",
       "  <tbody>\n",
       "    <tr>\n",
       "      <th>0</th>\n",
       "    </tr>\n",
       "    <tr>\n",
       "      <th>1</th>\n",
       "    </tr>\n",
       "  </tbody>\n",
       "</table>\n",
       "</div>"
      ],
      "text/plain": [
       "Empty DataFrame\n",
       "Columns: []\n",
       "Index: [0, 1]"
      ]
     },
     "execution_count": 16,
     "metadata": {},
     "output_type": "execute_result"
    }
   ],
   "source": [
    "from pandas import json_normalize\n",
    "\n",
    "df2 = json_normalize(df)\n",
    "df2"
   ]
  },
  {
   "cell_type": "code",
   "execution_count": null,
   "id": "6674dff7-5b49-4df0-b534-47eadda8efc4",
   "metadata": {},
   "outputs": [],
   "source": []
  }
 ],
 "metadata": {
  "kernelspec": {
   "display_name": "Python 3 (ipykernel)",
   "language": "python",
   "name": "python3"
  },
  "language_info": {
   "codemirror_mode": {
    "name": "ipython",
    "version": 3
   },
   "file_extension": ".py",
   "mimetype": "text/x-python",
   "name": "python",
   "nbconvert_exporter": "python",
   "pygments_lexer": "ipython3",
   "version": "3.12.4"
  }
 },
 "nbformat": 4,
 "nbformat_minor": 5
}
