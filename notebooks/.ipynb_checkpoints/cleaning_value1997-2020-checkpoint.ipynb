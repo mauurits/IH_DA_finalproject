{
 "cells": [
  {
   "cell_type": "code",
   "execution_count": 1,
   "id": "6b736a85-0215-479e-9ebf-fa2aa345dfd5",
   "metadata": {},
   "outputs": [],
   "source": [
    "import pandas as pd\n",
    "import yaml"
   ]
  },
  {
   "cell_type": "code",
   "execution_count": 2,
   "id": "0caff445-982f-4ec8-a708-ca865bd6a7ea",
   "metadata": {},
   "outputs": [
    {
     "name": "stdout",
     "output_type": "stream",
     "text": [
      "../data/raw/inventory_2012-2023.csv\n",
      "../data/raw/value_2019-2024.csv\n",
      "../data/raw/value_1997-2020.csv\n",
      "../data/raw/24-uitdraai-database-aardbevingen-atabix.csv\n"
     ]
    }
   ],
   "source": [
    "with open(\"../config.yaml\", \"r\") as file:\n",
    "    paths = yaml.safe_load(file)\n",
    "\n",
    "print(paths['data']['raw']['file1'])\n",
    "print(paths['data']['raw']['file2'])\n",
    "print(paths['data']['raw']['file3'])\n",
    "print(paths['data']['raw']['file4'])"
   ]
  },
  {
   "cell_type": "code",
   "execution_count": 3,
   "id": "b1534ad8-36fa-4798-a896-ad407229c56e",
   "metadata": {},
   "outputs": [],
   "source": [
    "# load files\n",
    "\n",
    "df1 = pd.read_csv(paths['data']['raw']['file3']) #, usecols=[0, 1, 2, 3, 4])\n",
    "df2 = pd.read_csv(paths['data']['raw']['file2'])\n",
    "df3 = pd.read_csv(paths['data']['raw']['file3'])\n",
    "df4 = pd.read_csv(paths['data']['raw']['file4'])\n"
   ]
  },
  {
   "cell_type": "code",
   "execution_count": 4,
   "id": "97aa4cdd-e9cb-4f5a-9fd8-7cc45747d80a",
   "metadata": {},
   "outputs": [
    {
     "data": {
      "text/html": [
       "<div>\n",
       "<style scoped>\n",
       "    .dataframe tbody tr th:only-of-type {\n",
       "        vertical-align: middle;\n",
       "    }\n",
       "\n",
       "    .dataframe tbody tr th {\n",
       "        vertical-align: top;\n",
       "    }\n",
       "\n",
       "    .dataframe thead th {\n",
       "        text-align: right;\n",
       "    }\n",
       "</style>\n",
       "<table border=\"1\" class=\"dataframe\">\n",
       "  <thead>\n",
       "    <tr style=\"text-align: right;\">\n",
       "      <th></th>\n",
       "      <th>Perioden</th>\n",
       "      <th>Regio's</th>\n",
       "      <th>Gemiddelde woningwaarde (1 000 euro)</th>\n",
       "    </tr>\n",
       "  </thead>\n",
       "  <tbody>\n",
       "    <tr>\n",
       "      <th>0</th>\n",
       "      <td>1997</td>\n",
       "      <td>Nederland</td>\n",
       "      <td>79</td>\n",
       "    </tr>\n",
       "    <tr>\n",
       "      <th>1</th>\n",
       "      <td>1998</td>\n",
       "      <td>Nederland</td>\n",
       "      <td>79</td>\n",
       "    </tr>\n",
       "    <tr>\n",
       "      <th>2</th>\n",
       "      <td>1999</td>\n",
       "      <td>Nederland</td>\n",
       "      <td>80</td>\n",
       "    </tr>\n",
       "    <tr>\n",
       "      <th>3</th>\n",
       "      <td>2000</td>\n",
       "      <td>Nederland</td>\n",
       "      <td>80</td>\n",
       "    </tr>\n",
       "    <tr>\n",
       "      <th>4</th>\n",
       "      <td>2001</td>\n",
       "      <td>Nederland</td>\n",
       "      <td>131</td>\n",
       "    </tr>\n",
       "  </tbody>\n",
       "</table>\n",
       "</div>"
      ],
      "text/plain": [
       "  Perioden    Regio's Gemiddelde woningwaarde (1 000 euro)\n",
       "0     1997  Nederland                                   79\n",
       "1     1998  Nederland                                   79\n",
       "2     1999  Nederland                                   80\n",
       "3     2000  Nederland                                   80\n",
       "4     2001  Nederland                                  131"
      ]
     },
     "execution_count": 4,
     "metadata": {},
     "output_type": "execute_result"
    }
   ],
   "source": [
    "# preliminary view\n",
    "\n",
    "df1.head()"
   ]
  },
  {
   "cell_type": "code",
   "execution_count": 5,
   "id": "5974cf32-e315-423d-9ae0-b140187142b2",
   "metadata": {},
   "outputs": [
    {
     "name": "stdout",
     "output_type": "stream",
     "text": [
      "<class 'pandas.core.frame.DataFrame'>\n",
      "RangeIndex: 15888 entries, 0 to 15887\n",
      "Data columns (total 3 columns):\n",
      " #   Column                                Non-Null Count  Dtype \n",
      "---  ------                                --------------  ----- \n",
      " 0   Perioden                              15888 non-null  object\n",
      " 1   Regio's                               15888 non-null  object\n",
      " 2   Gemiddelde woningwaarde (1 000 euro)  10903 non-null  object\n",
      "dtypes: object(3)\n",
      "memory usage: 372.5+ KB\n"
     ]
    }
   ],
   "source": [
    "# check datatypes\n",
    "\n",
    "df1.info()"
   ]
  },
  {
   "cell_type": "code",
   "execution_count": 6,
   "id": "42d477b7-8817-4ddf-adf9-ea19ab2920f6",
   "metadata": {},
   "outputs": [
    {
     "name": "stdout",
     "output_type": "stream",
     "text": [
      "\n",
      "Column Mappings Dictionary:\n",
      "{'Perioden': 'period', \"Regio's\": 'region', 'Gemiddelde woningwaarde (1 000 euro)': 'mean_value'}\n"
     ]
    }
   ],
   "source": [
    "# rename column names\n",
    "\n",
    "column_mappings = {\n",
    "    'Perioden': 'period',\n",
    "    \"Regio's\": 'region',\n",
    "    'Gemiddelde woningwaarde (1 000 euro)': 'mean_value'\n",
    "}\n",
    "\n",
    "print(\"\\nColumn Mappings Dictionary:\")\n",
    "print(column_mappings)\n",
    "\n",
    "# Rename the columns in the DataFrame\n",
    "df1.rename(columns=column_mappings, inplace=True)"
   ]
  },
  {
   "cell_type": "code",
   "execution_count": 7,
   "id": "d4b39c10-7b10-4120-9a47-2f39633c7ca4",
   "metadata": {},
   "outputs": [
    {
     "data": {
      "text/html": [
       "<div>\n",
       "<style scoped>\n",
       "    .dataframe tbody tr th:only-of-type {\n",
       "        vertical-align: middle;\n",
       "    }\n",
       "\n",
       "    .dataframe tbody tr th {\n",
       "        vertical-align: top;\n",
       "    }\n",
       "\n",
       "    .dataframe thead th {\n",
       "        text-align: right;\n",
       "    }\n",
       "</style>\n",
       "<table border=\"1\" class=\"dataframe\">\n",
       "  <thead>\n",
       "    <tr style=\"text-align: right;\">\n",
       "      <th></th>\n",
       "      <th>period</th>\n",
       "      <th>region</th>\n",
       "      <th>mean_value</th>\n",
       "    </tr>\n",
       "  </thead>\n",
       "  <tbody>\n",
       "    <tr>\n",
       "      <th>0</th>\n",
       "      <td>1997</td>\n",
       "      <td>Nederland</td>\n",
       "      <td>79</td>\n",
       "    </tr>\n",
       "    <tr>\n",
       "      <th>1</th>\n",
       "      <td>1998</td>\n",
       "      <td>Nederland</td>\n",
       "      <td>79</td>\n",
       "    </tr>\n",
       "    <tr>\n",
       "      <th>2</th>\n",
       "      <td>1999</td>\n",
       "      <td>Nederland</td>\n",
       "      <td>80</td>\n",
       "    </tr>\n",
       "    <tr>\n",
       "      <th>3</th>\n",
       "      <td>2000</td>\n",
       "      <td>Nederland</td>\n",
       "      <td>80</td>\n",
       "    </tr>\n",
       "    <tr>\n",
       "      <th>4</th>\n",
       "      <td>2001</td>\n",
       "      <td>Nederland</td>\n",
       "      <td>131</td>\n",
       "    </tr>\n",
       "  </tbody>\n",
       "</table>\n",
       "</div>"
      ],
      "text/plain": [
       "  period     region mean_value\n",
       "0   1997  Nederland         79\n",
       "1   1998  Nederland         79\n",
       "2   1999  Nederland         80\n",
       "3   2000  Nederland         80\n",
       "4   2001  Nederland        131"
      ]
     },
     "execution_count": 7,
     "metadata": {},
     "output_type": "execute_result"
    }
   ],
   "source": [
    "# check output\n",
    "\n",
    "df1.head()"
   ]
  },
  {
   "cell_type": "code",
   "execution_count": 8,
   "id": "9dddb441-8a86-484d-b9c2-a29f2a6e997a",
   "metadata": {},
   "outputs": [],
   "source": [
    "# check region values unique\n",
    "\n",
    "# set(df1['region'])"
   ]
  },
  {
   "cell_type": "code",
   "execution_count": 9,
   "id": "d37badc7-9318-47cf-80b5-02d4412bc78c",
   "metadata": {},
   "outputs": [],
   "source": [
    "# convert to correct datatypes\n",
    "\n",
    "# df_value['period'] = pd.to_datetime(df_value['period'])\n",
    "df1['mean_value'] = pd.to_numeric(df1['mean_value'], errors='coerce')\n",
    "# df_value['2020'] = pd.to_numeric(df_value['2020'], errors='coerce')\n",
    "# df_value['2021'] = pd.to_numeric(df_value['2021'], errors='coerce')\n",
    "# df_value['2022'] = pd.to_numeric(df_value['2022'], errors='coerce')\n",
    "# df_value['2023'] = pd.to_numeric(df_value['2023'], errors='coerce')\n",
    "# df_value['2024'] = pd.to_numeric(df_value['2024'], errors='coerce')\n",
    "# df_value['total_occupied'] = pd.to_numeric(df_value['total_occupied'], errors='coerce')\n",
    "# df_value['total_not_occupied'] = pd.to_numeric(df_value['total_not_occupied'], errors='coerce')"
   ]
  },
  {
   "cell_type": "code",
   "execution_count": 10,
   "id": "4c7527fd-99a6-4468-a9c5-e6a0f2ebe637",
   "metadata": {},
   "outputs": [
    {
     "name": "stdout",
     "output_type": "stream",
     "text": [
      "<class 'pandas.core.frame.DataFrame'>\n",
      "RangeIndex: 15888 entries, 0 to 15887\n",
      "Data columns (total 3 columns):\n",
      " #   Column      Non-Null Count  Dtype  \n",
      "---  ------      --------------  -----  \n",
      " 0   period      15888 non-null  object \n",
      " 1   region      15888 non-null  object \n",
      " 2   mean_value  10891 non-null  float64\n",
      "dtypes: float64(1), object(2)\n",
      "memory usage: 372.5+ KB\n"
     ]
    }
   ],
   "source": [
    "# check datatypes\n",
    "\n",
    "df1.info()"
   ]
  },
  {
   "cell_type": "code",
   "execution_count": 11,
   "id": "f106f2f5-9f37-4866-889c-78b50e9831eb",
   "metadata": {},
   "outputs": [
    {
     "data": {
      "text/plain": [
       "period           0\n",
       "region           0\n",
       "mean_value    4997\n",
       "dtype: int64"
      ]
     },
     "execution_count": 11,
     "metadata": {},
     "output_type": "execute_result"
    }
   ],
   "source": [
    "# check for null values\n",
    "\n",
    "df1.isna().sum()"
   ]
  },
  {
   "cell_type": "code",
   "execution_count": 12,
   "id": "4c69487f-15b9-43a5-a0db-b162b41d240d",
   "metadata": {},
   "outputs": [
    {
     "data": {
      "text/plain": [
       "(15888, 3)"
      ]
     },
     "execution_count": 12,
     "metadata": {},
     "output_type": "execute_result"
    }
   ],
   "source": [
    "df1.shape"
   ]
  },
  {
   "cell_type": "code",
   "execution_count": 13,
   "id": "e29d2211-c8a9-4b75-9f6c-2e0972b3f318",
   "metadata": {},
   "outputs": [],
   "source": [
    "# drop null values\n",
    "\n",
    "# df1 = df1.dropna()"
   ]
  },
  {
   "cell_type": "code",
   "execution_count": 14,
   "id": "af45612f-1b40-4d1b-9615-44fef659220f",
   "metadata": {},
   "outputs": [
    {
     "data": {
      "text/plain": [
       "(15888, 3)"
      ]
     },
     "execution_count": 14,
     "metadata": {},
     "output_type": "execute_result"
    }
   ],
   "source": [
    "df1.shape"
   ]
  },
  {
   "cell_type": "code",
   "execution_count": 15,
   "id": "bce3e6c8-b6ac-4886-9159-d1ee7f08e0c6",
   "metadata": {},
   "outputs": [],
   "source": [
    "#reset index\n",
    "\n",
    "df1 = df1.reset_index(drop=True)\n"
   ]
  },
  {
   "cell_type": "code",
   "execution_count": 16,
   "id": "cd5b4556-044d-4f91-a85b-d83178df5457",
   "metadata": {},
   "outputs": [
    {
     "data": {
      "text/html": [
       "<div>\n",
       "<style scoped>\n",
       "    .dataframe tbody tr th:only-of-type {\n",
       "        vertical-align: middle;\n",
       "    }\n",
       "\n",
       "    .dataframe tbody tr th {\n",
       "        vertical-align: top;\n",
       "    }\n",
       "\n",
       "    .dataframe thead th {\n",
       "        text-align: right;\n",
       "    }\n",
       "</style>\n",
       "<table border=\"1\" class=\"dataframe\">\n",
       "  <thead>\n",
       "    <tr style=\"text-align: right;\">\n",
       "      <th></th>\n",
       "      <th>period</th>\n",
       "      <th>region</th>\n",
       "      <th>mean_value</th>\n",
       "    </tr>\n",
       "  </thead>\n",
       "  <tbody>\n",
       "    <tr>\n",
       "      <th>0</th>\n",
       "      <td>1997</td>\n",
       "      <td>Nederland</td>\n",
       "      <td>79.0</td>\n",
       "    </tr>\n",
       "    <tr>\n",
       "      <th>1</th>\n",
       "      <td>1998</td>\n",
       "      <td>Nederland</td>\n",
       "      <td>79.0</td>\n",
       "    </tr>\n",
       "    <tr>\n",
       "      <th>2</th>\n",
       "      <td>1999</td>\n",
       "      <td>Nederland</td>\n",
       "      <td>80.0</td>\n",
       "    </tr>\n",
       "    <tr>\n",
       "      <th>3</th>\n",
       "      <td>2000</td>\n",
       "      <td>Nederland</td>\n",
       "      <td>80.0</td>\n",
       "    </tr>\n",
       "    <tr>\n",
       "      <th>4</th>\n",
       "      <td>2001</td>\n",
       "      <td>Nederland</td>\n",
       "      <td>131.0</td>\n",
       "    </tr>\n",
       "  </tbody>\n",
       "</table>\n",
       "</div>"
      ],
      "text/plain": [
       "  period     region  mean_value\n",
       "0   1997  Nederland        79.0\n",
       "1   1998  Nederland        79.0\n",
       "2   1999  Nederland        80.0\n",
       "3   2000  Nederland        80.0\n",
       "4   2001  Nederland       131.0"
      ]
     },
     "execution_count": 16,
     "metadata": {},
     "output_type": "execute_result"
    }
   ],
   "source": [
    "df1.head()"
   ]
  },
  {
   "cell_type": "code",
   "execution_count": 17,
   "id": "a36e6b58-d459-44cd-8c9e-600600f264dc",
   "metadata": {},
   "outputs": [],
   "source": [
    "# export clean dataset to csv\n",
    "\n",
    "df1.to_csv('value_1997-2020_clean_new.csv', index=False)"
   ]
  },
  {
   "cell_type": "code",
   "execution_count": null,
   "id": "bd644ecf-4858-4b87-b2df-411ee1789287",
   "metadata": {},
   "outputs": [],
   "source": []
  }
 ],
 "metadata": {
  "kernelspec": {
   "display_name": "venv",
   "language": "python",
   "name": "venv"
  },
  "language_info": {
   "codemirror_mode": {
    "name": "ipython",
    "version": 3
   },
   "file_extension": ".py",
   "mimetype": "text/x-python",
   "name": "python",
   "nbconvert_exporter": "python",
   "pygments_lexer": "ipython3",
   "version": "3.12.4"
  }
 },
 "nbformat": 4,
 "nbformat_minor": 5
}
