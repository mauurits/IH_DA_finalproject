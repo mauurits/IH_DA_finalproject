{
 "cells": [
  {
   "cell_type": "code",
   "execution_count": 1,
   "id": "6b736a85-0215-479e-9ebf-fa2aa345dfd5",
   "metadata": {},
   "outputs": [],
   "source": [
    "import pandas as pd\n",
    "import yaml"
   ]
  },
  {
   "cell_type": "code",
   "execution_count": 2,
   "id": "0caff445-982f-4ec8-a708-ca865bd6a7ea",
   "metadata": {},
   "outputs": [
    {
     "name": "stdout",
     "output_type": "stream",
     "text": [
      "../data/raw/inventory_2012-2023.csv\n",
      "../data/raw/value_2019-2024.csv\n",
      "../data/raw/value_1997-2020.csv\n",
      "../data/raw/24-uitdraai-database-aardbevingen-atabix.csv\n"
     ]
    }
   ],
   "source": [
    "with open(\"../config.yaml\", \"r\") as file:\n",
    "    paths = yaml.safe_load(file)\n",
    "\n",
    "print(paths['data']['raw']['file1'])\n",
    "print(paths['data']['raw']['file2'])\n",
    "print(paths['data']['raw']['file3'])\n",
    "print(paths['data']['raw']['file4'])"
   ]
  },
  {
   "cell_type": "code",
   "execution_count": 3,
   "id": "b1534ad8-36fa-4798-a896-ad407229c56e",
   "metadata": {},
   "outputs": [],
   "source": [
    "# load files\n",
    "\n",
    "df1 = pd.read_csv(paths['data']['raw']['file4']) #, usecols=[0, 1, 2, 3, 4])\n",
    "df2 = pd.read_csv(paths['data']['raw']['file2'])\n",
    "df3 = pd.read_csv(paths['data']['raw']['file3'])\n",
    "df4 = pd.read_csv(paths['data']['raw']['file4'])\n"
   ]
  },
  {
   "cell_type": "code",
   "execution_count": 4,
   "id": "97aa4cdd-e9cb-4f5a-9fd8-7cc45747d80a",
   "metadata": {},
   "outputs": [
    {
     "data": {
      "text/html": [
       "<div>\n",
       "<style scoped>\n",
       "    .dataframe tbody tr th:only-of-type {\n",
       "        vertical-align: middle;\n",
       "    }\n",
       "\n",
       "    .dataframe tbody tr th {\n",
       "        vertical-align: top;\n",
       "    }\n",
       "\n",
       "    .dataframe thead th {\n",
       "        text-align: right;\n",
       "    }\n",
       "</style>\n",
       "<table border=\"1\" class=\"dataframe\">\n",
       "  <thead>\n",
       "    <tr style=\"text-align: right;\">\n",
       "      <th></th>\n",
       "      <th>id</th>\n",
       "      <th>occurred_at</th>\n",
       "      <th>city</th>\n",
       "      <th>latitude</th>\n",
       "      <th>longitude</th>\n",
       "      <th>depth</th>\n",
       "      <th>magnitude</th>\n",
       "      <th>gasfield_id</th>\n",
       "      <th>created_at</th>\n",
       "      <th>updated_at</th>\n",
       "      <th>knmi_guid</th>\n",
       "    </tr>\n",
       "  </thead>\n",
       "  <tbody>\n",
       "    <tr>\n",
       "      <th>0</th>\n",
       "      <td>1</td>\n",
       "      <td>26/12/1986 07:47</td>\n",
       "      <td>Assen</td>\n",
       "      <td>52.992</td>\n",
       "      <td>6.548</td>\n",
       "      <td>1.0</td>\n",
       "      <td>2.8</td>\n",
       "      <td>NaN</td>\n",
       "      <td>NaN</td>\n",
       "      <td>NaN</td>\n",
       "      <td>NaN</td>\n",
       "    </tr>\n",
       "    <tr>\n",
       "      <th>1</th>\n",
       "      <td>2</td>\n",
       "      <td>14/12/1987 20:49</td>\n",
       "      <td>Hooghalen</td>\n",
       "      <td>52.928</td>\n",
       "      <td>6.552</td>\n",
       "      <td>1.5</td>\n",
       "      <td>2.5</td>\n",
       "      <td>NaN</td>\n",
       "      <td>NaN</td>\n",
       "      <td>NaN</td>\n",
       "      <td>NaN</td>\n",
       "    </tr>\n",
       "    <tr>\n",
       "      <th>2</th>\n",
       "      <td>3</td>\n",
       "      <td>01/12/1989 20:09</td>\n",
       "      <td>Kwadijk</td>\n",
       "      <td>52.529</td>\n",
       "      <td>4.971</td>\n",
       "      <td>1.2</td>\n",
       "      <td>2.7</td>\n",
       "      <td>NaN</td>\n",
       "      <td>NaN</td>\n",
       "      <td>NaN</td>\n",
       "      <td>NaN</td>\n",
       "    </tr>\n",
       "    <tr>\n",
       "      <th>3</th>\n",
       "      <td>4</td>\n",
       "      <td>15/02/1991 02:11</td>\n",
       "      <td>Emmen</td>\n",
       "      <td>52.771</td>\n",
       "      <td>6.914</td>\n",
       "      <td>3.0</td>\n",
       "      <td>2.2</td>\n",
       "      <td>NaN</td>\n",
       "      <td>NaN</td>\n",
       "      <td>NaN</td>\n",
       "      <td>NaN</td>\n",
       "    </tr>\n",
       "    <tr>\n",
       "      <th>4</th>\n",
       "      <td>5</td>\n",
       "      <td>25/04/1991 10:26</td>\n",
       "      <td>Eleveld</td>\n",
       "      <td>52.952</td>\n",
       "      <td>6.575</td>\n",
       "      <td>3.0</td>\n",
       "      <td>2.6</td>\n",
       "      <td>NaN</td>\n",
       "      <td>NaN</td>\n",
       "      <td>NaN</td>\n",
       "      <td>NaN</td>\n",
       "    </tr>\n",
       "  </tbody>\n",
       "</table>\n",
       "</div>"
      ],
      "text/plain": [
       "   id       occurred_at       city  latitude  longitude  depth  magnitude  \\\n",
       "0   1  26/12/1986 07:47      Assen    52.992      6.548    1.0        2.8   \n",
       "1   2  14/12/1987 20:49  Hooghalen    52.928      6.552    1.5        2.5   \n",
       "2   3  01/12/1989 20:09    Kwadijk    52.529      4.971    1.2        2.7   \n",
       "3   4  15/02/1991 02:11      Emmen    52.771      6.914    3.0        2.2   \n",
       "4   5  25/04/1991 10:26    Eleveld    52.952      6.575    3.0        2.6   \n",
       "\n",
       "   gasfield_id created_at updated_at knmi_guid  \n",
       "0          NaN        NaN        NaN       NaN  \n",
       "1          NaN        NaN        NaN       NaN  \n",
       "2          NaN        NaN        NaN       NaN  \n",
       "3          NaN        NaN        NaN       NaN  \n",
       "4          NaN        NaN        NaN       NaN  "
      ]
     },
     "execution_count": 4,
     "metadata": {},
     "output_type": "execute_result"
    }
   ],
   "source": [
    "# preliminary view\n",
    "\n",
    "df1.head()"
   ]
  },
  {
   "cell_type": "code",
   "execution_count": 5,
   "id": "5974cf32-e315-423d-9ae0-b140187142b2",
   "metadata": {},
   "outputs": [
    {
     "name": "stdout",
     "output_type": "stream",
     "text": [
      "<class 'pandas.core.frame.DataFrame'>\n",
      "RangeIndex: 1905 entries, 0 to 1904\n",
      "Data columns (total 11 columns):\n",
      " #   Column       Non-Null Count  Dtype  \n",
      "---  ------       --------------  -----  \n",
      " 0   id           1905 non-null   int64  \n",
      " 1   occurred_at  1905 non-null   object \n",
      " 2   city         1905 non-null   object \n",
      " 3   latitude     1905 non-null   float64\n",
      " 4   longitude    1905 non-null   float64\n",
      " 5   depth        1905 non-null   float64\n",
      " 6   magnitude    1905 non-null   float64\n",
      " 7   gasfield_id  1492 non-null   float64\n",
      " 8   created_at   237 non-null    object \n",
      " 9   updated_at   237 non-null    object \n",
      " 10  knmi_guid    132 non-null    object \n",
      "dtypes: float64(5), int64(1), object(5)\n",
      "memory usage: 163.8+ KB\n"
     ]
    }
   ],
   "source": [
    "# check datatypes\n",
    "\n",
    "df1.info()"
   ]
  },
  {
   "cell_type": "code",
   "execution_count": 7,
   "id": "9dddb441-8a86-484d-b9c2-a29f2a6e997a",
   "metadata": {},
   "outputs": [],
   "source": [
    "# check region values unique\n",
    "\n",
    "# set(df1['city'])"
   ]
  },
  {
   "cell_type": "code",
   "execution_count": 8,
   "id": "d37badc7-9318-47cf-80b5-02d4412bc78c",
   "metadata": {},
   "outputs": [
    {
     "name": "stderr",
     "output_type": "stream",
     "text": [
      "/var/folders/3v/mdv6bm7j6n99zg9hqgt9n70r0000gn/T/ipykernel_73193/797404095.py:4: UserWarning: Parsing dates in %d/%m/%Y %H:%M format when dayfirst=False (the default) was specified. Pass `dayfirst=True` or specify a format to silence this warning.\n",
      "  df1['occurred_at'] = pd.to_datetime(df1['occurred_at'])\n"
     ]
    }
   ],
   "source": [
    "# convert to correct datatypes\n",
    "\n",
    "# df_value['period'] = pd.to_datetime(df_value['period'])\n",
    "df1['occurred_at'] = pd.to_datetime(df1['occurred_at'])\n",
    "# df_value['2020'] = pd.to_numeric(df_value['2020'], errors='coerce')\n",
    "# df_value['2021'] = pd.to_numeric(df_value['2021'], errors='coerce')\n",
    "# df_value['2022'] = pd.to_numeric(df_value['2022'], errors='coerce')\n",
    "# df_value['2023'] = pd.to_numeric(df_value['2023'], errors='coerce')\n",
    "# df_value['2024'] = pd.to_numeric(df_value['2024'], errors='coerce')\n",
    "# df_value['total_occupied'] = pd.to_numeric(df_value['total_occupied'], errors='coerce')\n",
    "# df_value['total_not_occupied'] = pd.to_numeric(df_value['total_not_occupied'], errors='coerce')"
   ]
  },
  {
   "cell_type": "code",
   "execution_count": 9,
   "id": "4c7527fd-99a6-4468-a9c5-e6a0f2ebe637",
   "metadata": {},
   "outputs": [
    {
     "name": "stdout",
     "output_type": "stream",
     "text": [
      "<class 'pandas.core.frame.DataFrame'>\n",
      "RangeIndex: 1905 entries, 0 to 1904\n",
      "Data columns (total 11 columns):\n",
      " #   Column       Non-Null Count  Dtype         \n",
      "---  ------       --------------  -----         \n",
      " 0   id           1905 non-null   int64         \n",
      " 1   occurred_at  1905 non-null   datetime64[ns]\n",
      " 2   city         1905 non-null   object        \n",
      " 3   latitude     1905 non-null   float64       \n",
      " 4   longitude    1905 non-null   float64       \n",
      " 5   depth        1905 non-null   float64       \n",
      " 6   magnitude    1905 non-null   float64       \n",
      " 7   gasfield_id  1492 non-null   float64       \n",
      " 8   created_at   237 non-null    object        \n",
      " 9   updated_at   237 non-null    object        \n",
      " 10  knmi_guid    132 non-null    object        \n",
      "dtypes: datetime64[ns](1), float64(5), int64(1), object(4)\n",
      "memory usage: 163.8+ KB\n"
     ]
    }
   ],
   "source": [
    "# check datatypes\n",
    "\n",
    "df1.info()"
   ]
  },
  {
   "cell_type": "code",
   "execution_count": 10,
   "id": "f106f2f5-9f37-4866-889c-78b50e9831eb",
   "metadata": {},
   "outputs": [
    {
     "data": {
      "text/plain": [
       "id                0\n",
       "occurred_at       0\n",
       "city              0\n",
       "latitude          0\n",
       "longitude         0\n",
       "depth             0\n",
       "magnitude         0\n",
       "gasfield_id     413\n",
       "created_at     1668\n",
       "updated_at     1668\n",
       "knmi_guid      1773\n",
       "dtype: int64"
      ]
     },
     "execution_count": 10,
     "metadata": {},
     "output_type": "execute_result"
    }
   ],
   "source": [
    "# check for null values\n",
    "\n",
    "df1.isna().sum()"
   ]
  },
  {
   "cell_type": "code",
   "execution_count": 20,
   "id": "4c69487f-15b9-43a5-a0db-b162b41d240d",
   "metadata": {},
   "outputs": [
    {
     "data": {
      "text/plain": [
       "(15888, 3)"
      ]
     },
     "execution_count": 20,
     "metadata": {},
     "output_type": "execute_result"
    }
   ],
   "source": [
    "df1.shape"
   ]
  },
  {
   "cell_type": "code",
   "execution_count": 11,
   "id": "bce3e6c8-b6ac-4886-9159-d1ee7f08e0c6",
   "metadata": {},
   "outputs": [],
   "source": [
    "#reset index\n",
    "\n",
    "df1 = df1.reset_index(drop=True)\n"
   ]
  },
  {
   "cell_type": "code",
   "execution_count": 12,
   "id": "cd5b4556-044d-4f91-a85b-d83178df5457",
   "metadata": {},
   "outputs": [
    {
     "data": {
      "text/html": [
       "<div>\n",
       "<style scoped>\n",
       "    .dataframe tbody tr th:only-of-type {\n",
       "        vertical-align: middle;\n",
       "    }\n",
       "\n",
       "    .dataframe tbody tr th {\n",
       "        vertical-align: top;\n",
       "    }\n",
       "\n",
       "    .dataframe thead th {\n",
       "        text-align: right;\n",
       "    }\n",
       "</style>\n",
       "<table border=\"1\" class=\"dataframe\">\n",
       "  <thead>\n",
       "    <tr style=\"text-align: right;\">\n",
       "      <th></th>\n",
       "      <th>id</th>\n",
       "      <th>occurred_at</th>\n",
       "      <th>city</th>\n",
       "      <th>latitude</th>\n",
       "      <th>longitude</th>\n",
       "      <th>depth</th>\n",
       "      <th>magnitude</th>\n",
       "      <th>gasfield_id</th>\n",
       "      <th>created_at</th>\n",
       "      <th>updated_at</th>\n",
       "      <th>knmi_guid</th>\n",
       "    </tr>\n",
       "  </thead>\n",
       "  <tbody>\n",
       "    <tr>\n",
       "      <th>0</th>\n",
       "      <td>1</td>\n",
       "      <td>1986-12-26 07:47:00</td>\n",
       "      <td>Assen</td>\n",
       "      <td>52.992</td>\n",
       "      <td>6.548</td>\n",
       "      <td>1.0</td>\n",
       "      <td>2.8</td>\n",
       "      <td>NaN</td>\n",
       "      <td>NaN</td>\n",
       "      <td>NaN</td>\n",
       "      <td>NaN</td>\n",
       "    </tr>\n",
       "    <tr>\n",
       "      <th>1</th>\n",
       "      <td>2</td>\n",
       "      <td>1987-12-14 20:49:00</td>\n",
       "      <td>Hooghalen</td>\n",
       "      <td>52.928</td>\n",
       "      <td>6.552</td>\n",
       "      <td>1.5</td>\n",
       "      <td>2.5</td>\n",
       "      <td>NaN</td>\n",
       "      <td>NaN</td>\n",
       "      <td>NaN</td>\n",
       "      <td>NaN</td>\n",
       "    </tr>\n",
       "    <tr>\n",
       "      <th>2</th>\n",
       "      <td>3</td>\n",
       "      <td>1989-12-01 20:09:00</td>\n",
       "      <td>Kwadijk</td>\n",
       "      <td>52.529</td>\n",
       "      <td>4.971</td>\n",
       "      <td>1.2</td>\n",
       "      <td>2.7</td>\n",
       "      <td>NaN</td>\n",
       "      <td>NaN</td>\n",
       "      <td>NaN</td>\n",
       "      <td>NaN</td>\n",
       "    </tr>\n",
       "    <tr>\n",
       "      <th>3</th>\n",
       "      <td>4</td>\n",
       "      <td>1991-02-15 02:11:00</td>\n",
       "      <td>Emmen</td>\n",
       "      <td>52.771</td>\n",
       "      <td>6.914</td>\n",
       "      <td>3.0</td>\n",
       "      <td>2.2</td>\n",
       "      <td>NaN</td>\n",
       "      <td>NaN</td>\n",
       "      <td>NaN</td>\n",
       "      <td>NaN</td>\n",
       "    </tr>\n",
       "    <tr>\n",
       "      <th>4</th>\n",
       "      <td>5</td>\n",
       "      <td>1991-04-25 10:26:00</td>\n",
       "      <td>Eleveld</td>\n",
       "      <td>52.952</td>\n",
       "      <td>6.575</td>\n",
       "      <td>3.0</td>\n",
       "      <td>2.6</td>\n",
       "      <td>NaN</td>\n",
       "      <td>NaN</td>\n",
       "      <td>NaN</td>\n",
       "      <td>NaN</td>\n",
       "    </tr>\n",
       "  </tbody>\n",
       "</table>\n",
       "</div>"
      ],
      "text/plain": [
       "   id         occurred_at       city  latitude  longitude  depth  magnitude  \\\n",
       "0   1 1986-12-26 07:47:00      Assen    52.992      6.548    1.0        2.8   \n",
       "1   2 1987-12-14 20:49:00  Hooghalen    52.928      6.552    1.5        2.5   \n",
       "2   3 1989-12-01 20:09:00    Kwadijk    52.529      4.971    1.2        2.7   \n",
       "3   4 1991-02-15 02:11:00      Emmen    52.771      6.914    3.0        2.2   \n",
       "4   5 1991-04-25 10:26:00    Eleveld    52.952      6.575    3.0        2.6   \n",
       "\n",
       "   gasfield_id created_at updated_at knmi_guid  \n",
       "0          NaN        NaN        NaN       NaN  \n",
       "1          NaN        NaN        NaN       NaN  \n",
       "2          NaN        NaN        NaN       NaN  \n",
       "3          NaN        NaN        NaN       NaN  \n",
       "4          NaN        NaN        NaN       NaN  "
      ]
     },
     "execution_count": 12,
     "metadata": {},
     "output_type": "execute_result"
    }
   ],
   "source": [
    "df1.head()"
   ]
  },
  {
   "cell_type": "code",
   "execution_count": 13,
   "id": "a36e6b58-d459-44cd-8c9e-600600f264dc",
   "metadata": {},
   "outputs": [],
   "source": [
    "# export clean dataset to csv\n",
    "\n",
    "df1.to_csv('earthquake_data_clean.csv', index=False)"
   ]
  },
  {
   "cell_type": "code",
   "execution_count": null,
   "id": "bd644ecf-4858-4b87-b2df-411ee1789287",
   "metadata": {},
   "outputs": [],
   "source": []
  }
 ],
 "metadata": {
  "kernelspec": {
   "display_name": "venv",
   "language": "python",
   "name": "venv"
  },
  "language_info": {
   "codemirror_mode": {
    "name": "ipython",
    "version": 3
   },
   "file_extension": ".py",
   "mimetype": "text/x-python",
   "name": "python",
   "nbconvert_exporter": "python",
   "pygments_lexer": "ipython3",
   "version": "3.12.4"
  }
 },
 "nbformat": 4,
 "nbformat_minor": 5
}
