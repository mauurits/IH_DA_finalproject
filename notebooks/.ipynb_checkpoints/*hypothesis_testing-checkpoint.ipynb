{
 "cells": [
  {
   "cell_type": "code",
   "execution_count": 1,
   "id": "6b736a85-0215-479e-9ebf-fa2aa345dfd5",
   "metadata": {},
   "outputs": [],
   "source": [
    "import pandas as pd\n",
    "import yaml\n",
    "import pandas as pd\n",
    "import numpy as np\n",
    "from scipy import stats"
   ]
  },
  {
   "cell_type": "code",
   "execution_count": 2,
   "id": "0caff445-982f-4ec8-a708-ca865bd6a7ea",
   "metadata": {},
   "outputs": [
    {
     "name": "stdout",
     "output_type": "stream",
     "text": [
      "../data/clean/earthquake_data_clean.csv\n",
      "../data/clean/inventory_clean_redundant.csv\n",
      "../data/clean/value_1997-2020_clean.csv\n",
      "../data/clean/value_2019-2024_clean.csv\n",
      "../data/clean/values_joined_clean.csv\n",
      "../data/clean/values_pivotedback.csv\n",
      "../data/clean/combined_df_value+inventory.csv\n"
     ]
    }
   ],
   "source": [
    "with open(\"../config.yaml\", \"r\") as file:\n",
    "    paths = yaml.safe_load(file)\n",
    "\n",
    "print(paths['data']['clean']['file1'])\n",
    "print(paths['data']['clean']['file2'])\n",
    "print(paths['data']['clean']['file3'])\n",
    "print(paths['data']['clean']['file4'])\n",
    "print(paths['data']['clean']['file5'])\n",
    "print(paths['data']['clean']['file6'])\n",
    "print(paths['data']['clean']['file7'])"
   ]
  },
  {
   "cell_type": "code",
   "execution_count": 3,
   "id": "b1534ad8-36fa-4798-a896-ad407229c56e",
   "metadata": {},
   "outputs": [],
   "source": [
    "# load files\n",
    "\n",
    "df1 = pd.read_csv(paths['data']['clean']['file7']) #, usecols=[0, 1, 2, 3, 4])\n",
    "df2 = pd.read_csv(paths['data']['clean']['file2'])\n",
    "df3 = pd.read_csv(paths['data']['clean']['file3'])\n",
    "df4 = pd.read_csv(paths['data']['clean']['file4'])\n"
   ]
  },
  {
   "cell_type": "markdown",
   "id": "30e2a15b-3e17-4562-bfe6-e6fedf63260e",
   "metadata": {},
   "source": [
    "Hypothesis testing value affected city vs benchmark"
   ]
  },
  {
   "cell_type": "code",
   "execution_count": 4,
   "id": "97aa4cdd-e9cb-4f5a-9fd8-7cc45747d80a",
   "metadata": {},
   "outputs": [
    {
     "data": {
      "text/html": [
       "<div>\n",
       "<style scoped>\n",
       "    .dataframe tbody tr th:only-of-type {\n",
       "        vertical-align: middle;\n",
       "    }\n",
       "\n",
       "    .dataframe tbody tr th {\n",
       "        vertical-align: top;\n",
       "    }\n",
       "\n",
       "    .dataframe thead th {\n",
       "        text-align: right;\n",
       "    }\n",
       "</style>\n",
       "<table border=\"1\" class=\"dataframe\">\n",
       "  <thead>\n",
       "    <tr style=\"text-align: right;\">\n",
       "      <th></th>\n",
       "      <th>index</th>\n",
       "      <th>region</th>\n",
       "      <th>year</th>\n",
       "      <th>value</th>\n",
       "      <th>total</th>\n",
       "      <th>total_occupied</th>\n",
       "      <th>total_not_occupied</th>\n",
       "      <th>oppucation_ratio</th>\n",
       "    </tr>\n",
       "  </thead>\n",
       "  <tbody>\n",
       "    <tr>\n",
       "      <th>0</th>\n",
       "      <td>0</td>\n",
       "      <td>'s-Gravenhage (gemeente)</td>\n",
       "      <td>2012</td>\n",
       "      <td>207.0</td>\n",
       "      <td>241376.0</td>\n",
       "      <td>219180.0</td>\n",
       "      <td>22196.0</td>\n",
       "      <td>0.908044</td>\n",
       "    </tr>\n",
       "    <tr>\n",
       "      <th>1</th>\n",
       "      <td>1</td>\n",
       "      <td>'s-Gravenhage (gemeente)</td>\n",
       "      <td>2013</td>\n",
       "      <td>199.0</td>\n",
       "      <td>244880.0</td>\n",
       "      <td>222196.0</td>\n",
       "      <td>22684.0</td>\n",
       "      <td>0.907367</td>\n",
       "    </tr>\n",
       "    <tr>\n",
       "      <th>2</th>\n",
       "      <td>2</td>\n",
       "      <td>'s-Gravenhage (gemeente)</td>\n",
       "      <td>2014</td>\n",
       "      <td>188.0</td>\n",
       "      <td>249994.0</td>\n",
       "      <td>225202.0</td>\n",
       "      <td>24792.0</td>\n",
       "      <td>0.900830</td>\n",
       "    </tr>\n",
       "    <tr>\n",
       "      <th>3</th>\n",
       "      <td>3</td>\n",
       "      <td>'s-Gravenhage (gemeente)</td>\n",
       "      <td>2015</td>\n",
       "      <td>184.0</td>\n",
       "      <td>251374.0</td>\n",
       "      <td>227464.0</td>\n",
       "      <td>23910.0</td>\n",
       "      <td>0.904883</td>\n",
       "    </tr>\n",
       "    <tr>\n",
       "      <th>4</th>\n",
       "      <td>4</td>\n",
       "      <td>'s-Gravenhage (gemeente)</td>\n",
       "      <td>2016</td>\n",
       "      <td>188.0</td>\n",
       "      <td>253210.0</td>\n",
       "      <td>230398.0</td>\n",
       "      <td>22812.0</td>\n",
       "      <td>0.909909</td>\n",
       "    </tr>\n",
       "  </tbody>\n",
       "</table>\n",
       "</div>"
      ],
      "text/plain": [
       "   index                    region  year  value     total  total_occupied  \\\n",
       "0      0  's-Gravenhage (gemeente)  2012  207.0  241376.0        219180.0   \n",
       "1      1  's-Gravenhage (gemeente)  2013  199.0  244880.0        222196.0   \n",
       "2      2  's-Gravenhage (gemeente)  2014  188.0  249994.0        225202.0   \n",
       "3      3  's-Gravenhage (gemeente)  2015  184.0  251374.0        227464.0   \n",
       "4      4  's-Gravenhage (gemeente)  2016  188.0  253210.0        230398.0   \n",
       "\n",
       "   total_not_occupied  oppucation_ratio  \n",
       "0             22196.0          0.908044  \n",
       "1             22684.0          0.907367  \n",
       "2             24792.0          0.900830  \n",
       "3             23910.0          0.904883  \n",
       "4             22812.0          0.909909  "
      ]
     },
     "execution_count": 4,
     "metadata": {},
     "output_type": "execute_result"
    }
   ],
   "source": [
    "# preliminary view\n",
    "\n",
    "df1.head()"
   ]
  },
  {
   "cell_type": "code",
   "execution_count": 5,
   "id": "18abbedb-484d-4dfa-bd1d-bef79906e846",
   "metadata": {},
   "outputs": [
    {
     "data": {
      "text/plain": [
       "array([\"'s-Gravenhage (gemeente)\", \"'s-Hertogenbosch\", 'Aa en Hunze',\n",
       "       'Aalburg', 'Aalsmeer', 'Aalten', 'Achtkarspelen', 'Alblasserdam',\n",
       "       'Albrandswaard', 'Alkmaar', 'Almelo', 'Almere',\n",
       "       'Alphen aan den Rijn', 'Alphen-Chaam', 'Altena', 'Ameland',\n",
       "       'Amersfoort', 'Amstelveen', 'Amsterdam', 'Apeldoorn', 'Appingedam',\n",
       "       'Arnhem', 'Assen', 'Asten', 'Baarle-Nassau', 'Baarn',\n",
       "       'Barendrecht', 'Barneveld', 'Bedum', 'Beek (L.)', 'Beekdaelen',\n",
       "       'Beemster', 'Beesel', 'Bellingwedde', 'Berg en Dal', 'Bergambacht',\n",
       "       'Bergeijk', 'Bergen (L.)', 'Bergen (NH.)', 'Bergen op Zoom',\n",
       "       'Berkelland', 'Bernheze', 'Bernisse', 'Best', 'Beuningen',\n",
       "       'Beverwijk', 'Binnenmaas', 'Bladel', 'Blaricum', 'Bloemendaal',\n",
       "       'Boarnsterhim', 'Bodegraven-Reeuwijk', 'Boekel', 'Borger-Odoorn',\n",
       "       'Borne', 'Borsele', 'Boskoop', 'Boxmeer', 'Boxtel', 'Breda',\n",
       "       'Brielle', 'Bronckhorst', 'Brummen', 'Brunssum', 'Bunnik',\n",
       "       'Bunschoten', 'Buren', 'Bussum', 'Capelle aan den IJssel',\n",
       "       'Castricum', 'Coevorden', 'Cranendonck', 'Cromstrijen', 'Cuijk',\n",
       "       'Culemborg', 'Dalfsen', 'Dantumadiel', 'De Bilt',\n",
       "       'De Friese Meren', 'De Fryske Marren', 'De Marne',\n",
       "       'De Ronde Venen', 'De Wolden', 'Delft', 'Delfzijl', 'Den Helder',\n",
       "       'Deurne', 'Deventer', 'Diemen', 'Dinkelland', 'Dirksland',\n",
       "       'Doesburg', 'Doetinchem', 'Dongen', 'Dongeradeel', 'Dordrecht',\n",
       "       'Drechterland', 'Drenthe (PV)', 'Drimmelen', 'Dronten', 'Druten',\n",
       "       'Duiven', 'Echt-Susteren', 'Edam-Volendam', 'Ede', 'Eemnes',\n",
       "       'Eemsmond', 'Eersel', 'Eijsden-Margraten', 'Eindhoven', 'Elburg',\n",
       "       'Emmen', 'Enkhuizen', 'Enschede', 'Epe', 'Ermelo', 'Etten-Leur',\n",
       "       'Ferwerderadiel', 'Flevoland (PV)', 'Franekeradeel',\n",
       "       'Friesland (PV)', 'Gaasterlân-Sleat', 'Geertruidenberg',\n",
       "       'Gelderland (PV)', 'Geldermalsen', 'Geldrop-Mierlo',\n",
       "       'Gemert-Bakel', 'Gennep', 'Giessenlanden', 'Gilze en Rijen',\n",
       "       'Goedereede', 'Goeree-Overflakkee', 'Goes', 'Goirle',\n",
       "       'Gooise Meren', 'Gorinchem', 'Gouda', 'Graafstroom',\n",
       "       'Graft-De Rijp', 'Grave', 'Groesbeek', 'Groningen (PV)',\n",
       "       'Groningen (gemeente)', 'Grootegast', 'Gulpen-Wittem',\n",
       "       'Haaksbergen', 'Haaren', 'Haarlem',\n",
       "       'Haarlemmerliede en Spaarnwoude', 'Haarlemmermeer', 'Halderberge',\n",
       "       'Hardenberg', 'Harderwijk', 'Hardinxveld-Giessendam', 'Haren',\n",
       "       'Harenkarspel', 'Harlingen', 'Hattem', 'Heemskerk', 'Heemstede',\n",
       "       'Heerde', 'Heerenveen', 'Heerhugowaard', 'Heerlen', 'Heeze-Leende',\n",
       "       'Heiloo', 'Hellendoorn', 'Hellevoetsluis', 'Helmond',\n",
       "       'Hendrik-Ido-Ambacht', 'Hengelo (O.)', 'Het Hogeland', 'Heumen',\n",
       "       'Heusden', 'Hillegom', 'Hilvarenbeek', 'Hilversum',\n",
       "       'Hoeksche Waard', 'Hof van Twente', 'Hollands Kroon', 'Hoogeveen',\n",
       "       'Hoogezand-Sappemeer', 'Hoorn', 'Horst aan de Maas', 'Houten',\n",
       "       'Huizen', 'Hulst', 'IJsselstein', 'Kaag en Braassem', 'Kampen',\n",
       "       'Kapelle', 'Katwijk', 'Kerkrade', 'Koggenland',\n",
       "       'Kollumerland en Nieuwkruisland', 'Korendijk',\n",
       "       'Krimpen aan den IJssel', 'Krimpenerwaard', 'Laarbeek', 'Landerd',\n",
       "       'Landgraaf', 'Landsmeer', 'Langedijk', 'Lansingerland',\n",
       "       'Laren (NH.)', 'Leek', 'Leerdam', 'Leeuwarden', 'Leeuwarderadeel',\n",
       "       'Leiden', 'Leiderdorp', 'Leidschendam-Voorburg', 'Lelystad',\n",
       "       'Lemsterland', 'Leudal', 'Leusden', 'Liesveld', 'Limburg (PV)',\n",
       "       'Lingewaal', 'Lingewaard', 'Lisse', 'Littenseradiel', 'Lochem',\n",
       "       'Loon op Zand', 'Lopik', 'Loppersum', 'Losser', 'Maasdonk',\n",
       "       'Maasdriel', 'Maasgouw', 'Maassluis', 'Maastricht', 'Marum',\n",
       "       'Medemblik', 'Meerssen', 'Meierijstad', 'Menameradiel',\n",
       "       'Menterwolde', 'Meppel', 'Middelburg (Z.)', 'Middelharnis',\n",
       "       'Midden-Delfland', 'Midden-Drenthe', 'Midden-Groningen',\n",
       "       'Mill en Sint Hubert', 'Millingen aan de Rijn', 'Moerdijk',\n",
       "       'Molenlanden', 'Molenwaard', 'Montferland', 'Montfoort',\n",
       "       'Mook en Middelaar', 'Muiden', 'Naarden', 'Neder-Betuwe',\n",
       "       'Nederland', 'Nederlek', 'Nederweert', 'Neerijnen',\n",
       "       'Nieuw-Lekkerland', 'Nieuwegein', 'Nieuwkoop', 'Nijkerk',\n",
       "       'Nijmegen', 'Nissewaard', 'Noord-Beveland', 'Noord-Brabant (PV)',\n",
       "       'Noord-Holland (PV)', 'Noordenveld', 'Noordoostpolder',\n",
       "       'Noordwijk', 'Noordwijkerhout', 'Nunspeet', 'Nuth', 'Oegstgeest',\n",
       "       'Oirschot', 'Oisterwijk', 'Oldambt', 'Oldebroek', 'Oldenzaal',\n",
       "       'Olst-Wijhe', 'Ommen', 'Onderbanken', 'Oost Gelre', 'Oosterhout',\n",
       "       'Oostflakkee', 'Ooststellingwerf', 'Oostzaan', 'Opmeer',\n",
       "       'Opsterland', 'Oss', 'Oud-Beijerland', 'Oude IJsselstreek',\n",
       "       'Ouder-Amstel', 'Ouderkerk', 'Oudewater', 'Overbetuwe',\n",
       "       'Overijssel (PV)', 'Papendrecht', 'Peel en Maas', 'Pekela',\n",
       "       'Pijnacker-Nootdorp', 'Purmerend', 'Putten', 'Raalte',\n",
       "       'Reimerswaal', 'Renkum', 'Renswoude', 'Reusel-De Mierden',\n",
       "       'Rheden', 'Rhenen', 'Ridderkerk', 'Rijnwaarden', 'Rijnwoude',\n",
       "       'Rijssen-Holten', 'Rijswijk (ZH.)', 'Roerdalen', 'Roermond',\n",
       "       'Roosendaal', 'Rotterdam', 'Rozendaal', 'Rucphen', 'Schagen',\n",
       "       'Schermer', 'Scherpenzeel', 'Schiedam', 'Schiermonnikoog',\n",
       "       'Schijndel', 'Schinnen', 'Schoonhoven', 'Schouwen-Duiveland',\n",
       "       'Simpelveld', 'Sint Anthonis', 'Sint-Michielsgestel',\n",
       "       'Sint-Oedenrode', 'Sittard-Geleen', 'Skarsterlân', 'Sliedrecht',\n",
       "       'Slochteren', 'Sluis', 'Smallingerland', 'Soest', 'Someren',\n",
       "       'Son en Breugel', 'Spijkenisse', 'Stadskanaal', 'Staphorst',\n",
       "       'Stede Broec', 'Steenbergen', 'Steenwijkerland', 'Stein (L.)',\n",
       "       'Stichtse Vecht', 'Strijen', 'Ten Boer', 'Terneuzen',\n",
       "       'Terschelling', 'Texel', 'Teylingen', 'Tholen', 'Tiel', 'Tilburg',\n",
       "       'Tubbergen', 'Twenterand', 'Tynaarlo', 'Tytsjerksteradiel',\n",
       "       'Ubbergen', 'Uden', 'Uitgeest', 'Uithoorn', 'Urk', 'Utrecht (PV)',\n",
       "       'Utrecht (gemeente)', 'Utrechtse Heuvelrug', 'Vaals',\n",
       "       'Valkenburg aan de Geul', 'Valkenswaard', 'Veendam', 'Veenendaal',\n",
       "       'Veere', 'Veghel', 'Veldhoven', 'Velsen', 'Venlo', 'Venray',\n",
       "       'Vianen', 'Vijfheerenlanden', 'Vlaardingen', 'Vlagtwedde',\n",
       "       'Vlieland', 'Vlissingen', 'Vlist', 'Voerendaal', 'Voorschoten',\n",
       "       'Voorst', 'Vught', 'Waadhoeke', 'Waalre', 'Waalwijk',\n",
       "       'Waddinxveen', 'Wageningen', 'Wassenaar', 'Waterland', 'Weert',\n",
       "       'Weesp', 'Werkendam', 'West Betuwe', 'West Maas en Waal',\n",
       "       'Westerkwartier', 'Westerveld', 'Westervoort', 'Westerwolde',\n",
       "       'Westland', 'Weststellingwerf', 'Westvoorne', 'Wierden', 'Wijchen',\n",
       "       'Wijdemeren', 'Wijk bij Duurstede', 'Winsum', 'Winterswijk',\n",
       "       'Woensdrecht', 'Woerden', 'Wormerland', 'Woudenberg', 'Woudrichem',\n",
       "       'Zaanstad', 'Zaltbommel', 'Zandvoort', 'Zederik', 'Zeeland (PV)',\n",
       "       'Zeevang', 'Zeewolde', 'Zeist', 'Zevenaar', 'Zijpe', 'Zoetermeer',\n",
       "       'Zoeterwoude', 'Zuid-Holland (PV)', 'Zuidhorn', 'Zuidplas',\n",
       "       'Zundert', 'Zutphen', 'Zwartewaterland', 'Zwijndrecht', 'Zwolle',\n",
       "       'het Bildt'], dtype=object)"
      ]
     },
     "execution_count": 5,
     "metadata": {},
     "output_type": "execute_result"
    }
   ],
   "source": [
    "df1['region'].unique()"
   ]
  },
  {
   "cell_type": "code",
   "execution_count": 6,
   "id": "8b4256bc-19ad-4314-b04e-bb395432942f",
   "metadata": {},
   "outputs": [
    {
     "data": {
      "text/plain": [
       "array(['Drenthe (PV)', 'Flevoland (PV)', 'Friesland (PV)',\n",
       "       'Gelderland (PV)', 'Groningen (PV)', 'Limburg (PV)',\n",
       "       'Noord-Brabant (PV)', 'Noord-Holland (PV)', 'Overijssel (PV)',\n",
       "       'Utrecht (PV)', 'Zeeland (PV)', 'Zuid-Holland (PV)'], dtype=object)"
      ]
     },
     "execution_count": 6,
     "metadata": {},
     "output_type": "execute_result"
    }
   ],
   "source": [
    "search_string = 'PV'\n",
    "matching_rows = df1[df1['region'].str.contains(search_string, case=False, na=False)]\n",
    "\n",
    "matching_rows['region'].unique()"
   ]
  },
  {
   "cell_type": "code",
   "execution_count": 7,
   "id": "920f0a4f-5f63-46e9-8cc9-b4dc3d4eb8b6",
   "metadata": {},
   "outputs": [],
   "source": [
    "# output2 = df1[(df1['region'] == 'Leeuwarden') | (df1['region'] == 'Appingedam')]\n",
    "# output2 = output2.dropna()\n",
    "# output2.to_csv('output2.csv', index=False)"
   ]
  },
  {
   "cell_type": "code",
   "execution_count": 8,
   "id": "ec9f7ef6-39f6-4f29-9a09-d80f1851f634",
   "metadata": {},
   "outputs": [],
   "source": [
    "df_target_city = df1[df1['region'] == 'Appingedam']\n",
    "df_benchmark_city = df1[df1['region'] == 'Franekeradeel']\n",
    "df_target_region = df1[df1['region'] == 'Groningen (PV)']\n",
    "df_benchmark_region = df1[df1['region'] == 'Friesland (PV)']\n",
    "\n",
    "# drop NaNs\n",
    "df_target_city = df_target_city.dropna()\n",
    "df_benchmark_city = df_benchmark_city.dropna()\n",
    "df_target_region = df_target_region.dropna()\n",
    "df_benchmark_region = df_benchmark_region.dropna()"
   ]
  },
  {
   "cell_type": "code",
   "execution_count": 9,
   "id": "15692968-9897-4d83-8f09-8f50acda0f49",
   "metadata": {},
   "outputs": [
    {
     "name": "stdout",
     "output_type": "stream",
     "text": [
      "t-statistic: -1.2255540386600967\n",
      "p-value: 0.11686628235371013\n",
      "Fail to reject the null hypothesis: No evidence that target city has a lower value than benchmark city.\n"
     ]
    }
   ],
   "source": [
    "# Weighted two-sample T-test - Target city vs Benchmark city\n",
    "\n",
    "# Extract values and weights for both regions\n",
    "values_target = df_target_city['value']\n",
    "weights_target = df_target_city['total']\n",
    "\n",
    "values_benchmark = df_benchmark_city['value']\n",
    "weights_benchmark = df_benchmark_city['total']\n",
    "\n",
    "# Function to compute the weighted mean\n",
    "def weighted_mean(values, weights):\n",
    "    return np.sum(values * weights) / np.sum(weights)\n",
    "\n",
    "# Function to compute the weighted variance\n",
    "def weighted_variance(values, weights):\n",
    "    mean = weighted_mean(values, weights)\n",
    "    variance = np.sum(weights * (values - mean) ** 2) / np.sum(weights)\n",
    "    return variance\n",
    "\n",
    "# Calculate the weighted means\n",
    "mean_target = weighted_mean(values_target, weights_target)\n",
    "mean_benchmark = weighted_mean(values_benchmark, weights_benchmark)\n",
    "\n",
    "# Calculate the weighted variances\n",
    "var_target = weighted_variance(values_target, weights_target)\n",
    "var_benchmark = weighted_variance(values_benchmark, weights_benchmark)\n",
    "\n",
    "# Calculate the number of samples (n)\n",
    "n_target = len(values_target)\n",
    "n_benchmark = len(values_benchmark)\n",
    "\n",
    "# Calculate the t-statistic\n",
    "t_statistic = (mean_target - mean_benchmark) / np.sqrt((var_target / n_target) + (var_benchmark / n_benchmark))\n",
    "\n",
    "# Degrees of freedom for weighted t-test (approximation using Welch-Satterthwaite equation)\n",
    "df_numerator = ((var_target / n_target) + (var_benchmark / n_benchmark)) ** 2\n",
    "df_denominator = ((var_target / n_target) ** 2 / (n_target - 1)) + ((var_benchmark / n_benchmark) ** 2 / (n_benchmark - 1))\n",
    "degrees_of_freedom = df_numerator / df_denominator\n",
    "\n",
    "# Calculate the p-value for a one-sided t-test (to test if target is lower than benchmark)\n",
    "p_value = stats.t.cdf(t_statistic, df=degrees_of_freedom)\n",
    "\n",
    "# Output the results\n",
    "print(f\"t-statistic: {t_statistic}\")\n",
    "print(f\"p-value: {p_value}\")\n",
    "\n",
    "alpha = 0.05\n",
    "if p_value < alpha:\n",
    "    print(\"Reject the null hypothesis: target city has a lower value than benchmark city.\")\n",
    "else:\n",
    "    print(\"Fail to reject the null hypothesis: No evidence that target city has a lower value than benchmark city.\")"
   ]
  },
  {
   "cell_type": "markdown",
   "id": "6a39fb90-3869-4198-ac85-69346fbf553c",
   "metadata": {},
   "source": [
    "Weighted two-sample T-test - Target region vs Benchmark region"
   ]
  },
  {
   "cell_type": "code",
   "execution_count": 10,
   "id": "20d41575-be59-44b6-8228-ee688ea551f7",
   "metadata": {},
   "outputs": [
    {
     "name": "stdout",
     "output_type": "stream",
     "text": [
      "t-statistic: -0.8264588099767186\n",
      "p-value: 0.20870875486772789\n",
      "Fail to reject the null hypothesis: No evidence that target region has a lower value than benchmark region.\n"
     ]
    }
   ],
   "source": [
    "# Weighted two-sample T-test - Target region vs Benchmark region\n",
    "\n",
    "# Extract values and weights for both regions\n",
    "values_target = df_target_region['value']\n",
    "weights_target = df_target_region['total']\n",
    "\n",
    "values_benchmark = df_benchmark_region['value']\n",
    "weights_benchmark = df_benchmark_region['total']\n",
    "\n",
    "# Function to compute the weighted mean\n",
    "def weighted_mean(values, weights):\n",
    "    return np.sum(values * weights) / np.sum(weights)\n",
    "\n",
    "# Function to compute the weighted variance\n",
    "def weighted_variance(values, weights):\n",
    "    mean = weighted_mean(values, weights)\n",
    "    variance = np.sum(weights * (values - mean) ** 2) / np.sum(weights)\n",
    "    return variance\n",
    "\n",
    "# Calculate the weighted means\n",
    "mean_target = weighted_mean(values_target, weights_target)\n",
    "mean_benchmark = weighted_mean(values_benchmark, weights_benchmark)\n",
    "\n",
    "# Calculate the weighted variances\n",
    "var_target = weighted_variance(values_target, weights_target)\n",
    "var_benchmark = weighted_variance(values_benchmark, weights_benchmark)\n",
    "\n",
    "# Calculate the number of samples (n)\n",
    "n_target = len(values_target)\n",
    "n_benchmark = len(values_benchmark)\n",
    "\n",
    "# Calculate the t-statistic\n",
    "t_statistic = (mean_target - mean_benchmark) / np.sqrt((var_target / n_target) + (var_benchmark / n_benchmark))\n",
    "\n",
    "# Degrees of freedom for weighted t-test (approximation using Welch-Satterthwaite equation)\n",
    "df_numerator = ((var_target / n_target) + (var_benchmark / n_benchmark)) ** 2\n",
    "df_denominator = ((var_target / n_target) ** 2 / (n_target - 1)) + ((var_benchmark / n_benchmark) ** 2 / (n_benchmark - 1))\n",
    "degrees_of_freedom = df_numerator / df_denominator\n",
    "\n",
    "# Calculate the p-value for a one-sided t-test (to test if target is lower than benchmark)\n",
    "p_value = stats.t.cdf(t_statistic, df=degrees_of_freedom)\n",
    "\n",
    "# Output the results\n",
    "print(f\"t-statistic: {t_statistic}\")\n",
    "print(f\"p-value: {p_value}\")\n",
    "\n",
    "alpha = 0.05\n",
    "if p_value < alpha:\n",
    "    print(\"Reject the null hypothesis: target region has a lower value than benchmark region.\")\n",
    "else:\n",
    "    print(\"Fail to reject the null hypothesis: No evidence that target region has a lower value than benchmark region.\")"
   ]
  },
  {
   "cell_type": "code",
   "execution_count": 11,
   "id": "70c4cacc-73f3-433d-af48-766a743fa112",
   "metadata": {},
   "outputs": [
    {
     "name": "stdout",
     "output_type": "stream",
     "text": [
      "t-statistic: 3.4702883077753923\n",
      "p-value: 0.998904479527389\n",
      "Fail to reject the null hypothesis: No evidence that target city has a lower occupation ratio than benchmark city.\n"
     ]
    }
   ],
   "source": [
    "\n",
    "# Filter data for \"Target city\" and \"Benchmark\"\n",
    "df_target_city = df1[df1['region'] == 'Appingedam']\n",
    "df_benchmark_city = df1[df1['region'] == 'Franekeradeel']\n",
    "\n",
    "# Extract the occupation_ratio for both regions\n",
    "occupation_targetcity = df_target_city['oppucation_ratio'].dropna()\n",
    "occupation_benchmarkcity = df_benchmark_city['oppucation_ratio'].dropna()\n",
    "\n",
    "# Perform Welch's t-test for unequal variances\n",
    "t_statistic, p_value = stats.ttest_ind(occupation_targetcity, occupation_benchmarkcity, equal_var=False, alternative='less')\n",
    "\n",
    "# Output the results\n",
    "print(f\"t-statistic: {t_statistic}\")\n",
    "print(f\"p-value: {p_value}\")\n",
    "\n",
    "# Check if we can reject the null hypothesis at a significance level of 0.05\n",
    "alpha = 0.05\n",
    "if p_value < alpha:\n",
    "    print(\"Reject the null hypothesis: target city has a lower occupation ratio than benchmark city.\")\n",
    "else:\n",
    "    print(\"Fail to reject the null hypothesis: No evidence that target city has a lower occupation ratio than benchmark city.\")\n"
   ]
  },
  {
   "cell_type": "code",
   "execution_count": 12,
   "id": "baf941cb-5951-4e3d-b12c-f3279102784c",
   "metadata": {},
   "outputs": [
    {
     "name": "stdout",
     "output_type": "stream",
     "text": [
      "t-statistic: 0.7717475870976036\n",
      "p-value: 0.7752359957977669\n",
      "Fail to reject the null hypothesis: No evidence that target region has a lower occupation ratio than benchmark region.\n"
     ]
    }
   ],
   "source": [
    "\n",
    "# Filter data for \"Target region\" and \"Benchmark\"\n",
    "df_target_region = df1[df1['region'] == 'Groningen (PV)']\n",
    "df_benchmark_region = df1[df1['region'] == 'Friesland (PV)']\n",
    "\n",
    "# Extract the occupation_ratio for both regions\n",
    "occupation_targetregion = df_target_region['oppucation_ratio'].dropna()\n",
    "occupation_benchmarkregion = df_benchmark_region['oppucation_ratio'].dropna()\n",
    "\n",
    "# Perform Welch's t-test for unequal variances\n",
    "t_statistic, p_value = stats.ttest_ind(occupation_targetregion, occupation_benchmarkregion, equal_var=False, alternative='less')\n",
    "\n",
    "# Output the results\n",
    "print(f\"t-statistic: {t_statistic}\")\n",
    "print(f\"p-value: {p_value}\")\n",
    "\n",
    "# Check if we can reject the null hypothesis at a significance level of 0.05\n",
    "alpha = 0.05\n",
    "if p_value < alpha:\n",
    "    print(\"Reject the null hypothesis: target region has a lower occupation ratio than benchmark region.\")\n",
    "else:\n",
    "    print(\"Fail to reject the null hypothesis: No evidence that target region has a lower occupation ratio than benchmark region.\")"
   ]
  },
  {
   "cell_type": "code",
   "execution_count": null,
   "id": "c2669a6f-6adf-4ae5-b59a-ecbf92b57b80",
   "metadata": {},
   "outputs": [],
   "source": []
  },
  {
   "cell_type": "code",
   "execution_count": null,
   "id": "ffd855f0-e67a-40f3-ad11-c76848d5642e",
   "metadata": {},
   "outputs": [],
   "source": []
  },
  {
   "cell_type": "code",
   "execution_count": null,
   "id": "e9565707-f273-4a1d-a0f9-a4dd50258ffd",
   "metadata": {},
   "outputs": [],
   "source": []
  }
 ],
 "metadata": {
  "kernelspec": {
   "display_name": "venv",
   "language": "python",
   "name": "venv"
  },
  "language_info": {
   "codemirror_mode": {
    "name": "ipython",
    "version": 3
   },
   "file_extension": ".py",
   "mimetype": "text/x-python",
   "name": "python",
   "nbconvert_exporter": "python",
   "pygments_lexer": "ipython3",
   "version": "3.12.4"
  }
 },
 "nbformat": 4,
 "nbformat_minor": 5
}
